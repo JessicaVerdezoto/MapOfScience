{
 "cells": [
  {
   "cell_type": "markdown",
   "metadata": {},
   "source": [
    "\n",
    " # Adaptación del Ejercicio 5.9.2, Map of Science \n",
    "## Se realiza una busqueda del tema de interes, Fusarium oxysporum.\n",
    "    \"Importamos los modules a usar desde PubMed.\""
   ]
  },
  {
   "cell_type": "code",
   "execution_count": 54,
   "metadata": {},
   "outputs": [],
   "source": [
    "%config IPCompleter.greedy=True"
   ]
  },
  {
   "cell_type": "code",
   "execution_count": 61,
   "metadata": {},
   "outputs": [],
   "source": [
    "import re\n",
    "import csv\n",
    "import itertools"
   ]
  },
  {
   "cell_type": "code",
   "execution_count": 62,
   "metadata": {},
   "outputs": [],
   "source": [
    "with open('pubmed-fusariumox-set.txt', encoding=\"utf8\") as f:\n",
    "    info = f.read()"
   ]
  },
  {
   "cell_type": "code",
   "execution_count": 66,
   "metadata": {},
   "outputs": [
    {
     "data": {
      "text/plain": [
       "33405"
      ]
     },
     "execution_count": 66,
     "metadata": {},
     "output_type": "execute_result"
    }
   ],
   "source": [
    "# info\n",
    "len (info)"
   ]
  },
  {
   "cell_type": "code",
   "execution_count": 67,
   "metadata": {},
   "outputs": [],
   "source": [
    "info = re.sub(r'\\n\\s{6}', ' ', info)\n"
   ]
  },
  {
   "cell_type": "code",
   "execution_count": 68,
   "metadata": {},
   "outputs": [
    {
     "name": "stdout",
     "output_type": "stream",
     "text": [
      "PMID- 32692281\n",
      "OWN - NLM\n",
      "STAT- MEDLINE\n",
      "DCOM- 20200903\n",
      "LR  - 20210502\n",
      "IS  - 0031-949X (Print)\n",
      "IS  - 1943-7684 (Electronic)\n",
      "IS  - 0031-949X (Linking)\n",
      "VI  - 110\n",
      "IP  - 9\n",
      "DP  - 2020 Sep\n",
      "TI  - Accessory Chromosomes in Fusarium oxysporum.\n",
      "PG  - 1488-1496\n",
      "LID - 10.1094/PHYTO-03-20-0069-IA [doi]\n",
      "AB  - Most genomes within the species complex of Fusarium oxysporum are organized into two  compartments: the core chromosomes (CCs) and accessory chromosomes (ACs). As opposed  to CCs, which are conserved and vertically transmitted to carry out essential  housekeeping functions, lineage- or strain-specific ACs are believed to be initially  horizontally acquired through unclear mechanisms. These two genomic compartments are  different in terms of gene density, the distribution of transposable elements, and  epigenetic markers. Although common in eukaryotes, the functional importance of ACs  is uniquely emphasized among fungal species, specifically in relationship to fungal  pathogenicity and their adaptation to diverse hosts. With a focus on the  cross-kingdom fungal pathogen F. oxysporum, this review provides a summary of the  differences between CCs and ACs based on current knowledge of gene functions, genome  structures, and epigenetic signatures, and explores the transcriptional crosstalk  between the core and accessory genomes.\n",
      "FAU - Yang, He\n",
      "AU  - Yang H\n",
      "AD  - University of Massachusetts, Biochemistry and Molecular Biology, Amherst, MA 01003.\n",
      "FAU - Yu, Houlin\n",
      "AU  - Yu H\n",
      "AD  - University of Massachusetts, Biochemistry and Molecular Biology, Amherst, MA 01003.\n",
      "FAU - Ma, Li-Jun\n",
      "AU  - Ma LJ\n",
      "AUID- ORCID: 0000-0002-2733-3708\n",
      "AD  - University of Massachusetts, Biochemistry and Molecular Biology, Amherst, MA 01003.\n",
      "LA  - eng\n",
      "GR  - R01 EY030150/EY/NEI NIH HHS/United States\n",
      "PT  - Journal Article\n",
      "PT  - Review\n",
      "DEP - 20200806\n",
      "TA  - Phytopathology\n",
      "JT  - Phytopathology\n",
      "JID - 9427222\n",
      "SB  - IM\n",
      "MH  - Chromosomes, Fungal\n",
      "MH  - Fusarium/*genetics\n",
      "MH  - Genome, Fungal\n",
      "MH  - Phylogeny\n",
      "MH  - Plant Di\n"
     ]
    }
   ],
   "source": [
    "print(info[:2000])"
   ]
  },
  {
   "cell_type": "code",
   "execution_count": 59,
   "metadata": {},
   "outputs": [
    {
     "data": {
      "text/plain": [
       "['',\n",
       " 'MA',\n",
       " 'USA',\n",
       " 'China',\n",
       " 'United States',\n",
       " 'Saudi Arabia',\n",
       " 'Egypt',\n",
       " 'India',\n",
       " 'Turkey',\n",
       " 'Italy',\n",
       " 'Japan']"
      ]
     },
     "execution_count": 59,
     "metadata": {},
     "output_type": "execute_result"
    }
   ],
   "source": [
    "codes = re.findall(r'AD.+, (.+[a-z-A-Z]).  ?Electronic|AD.+, (.+[a-z-A-Z]).  [^\\s<>\"]+@[^\\s<>\"]+|AD.+, (.+[a-z-A-Z]). [^\\s<>\"]+@[^\\s<>\"]+|AD.+,  ?(.+[a-z-A-Z]).?|', info)\n",
    "\n",
    "basic_list = itertools.chain(*codes)\n",
    "basic_list=list(basic_list)\n",
    "basic_list\n",
    "\n",
    "FR_List = [] \n",
    "for element in basic_list:\n",
    "    if element not in FR_List:\n",
    "        FR_List.append(element)\n",
    "\n",
    "FR_List[:40]"
   ]
  },
  {
   "cell_type": "code",
   "execution_count": 60,
   "metadata": {},
   "outputs": [
    {
     "data": {
      "text/plain": [
       "11"
      ]
     },
     "execution_count": 60,
     "metadata": {},
     "output_type": "execute_result"
    }
   ],
   "source": [
    "len(FR_List)"
   ]
  },
  {
   "cell_type": "code",
   "execution_count": 69,
   "metadata": {},
   "outputs": [
    {
     "data": {
      "text/plain": [
       "['',\n",
       " 'China',\n",
       " 'Egypt',\n",
       " 'India',\n",
       " 'Italy',\n",
       " 'Japan',\n",
       " 'MA',\n",
       " 'Saudi Arabia',\n",
       " 'Turkey',\n",
       " 'USA']"
      ]
     },
     "execution_count": 69,
     "metadata": {},
     "output_type": "execute_result"
    }
   ],
   "source": [
    "unique_zipcodes = list(set(FR_List))\n",
    "unique_zipcodes.sort()\n",
    "unique_zipcodes[:10]"
   ]
  },
  {
   "cell_type": "code",
   "execution_count": 70,
   "metadata": {},
   "outputs": [
    {
     "data": {
      "text/plain": [
       "11"
      ]
     },
     "execution_count": 70,
     "metadata": {},
     "output_type": "execute_result"
    }
   ],
   "source": [
    "len(unique_zipcodes)"
   ]
  },
  {
   "cell_type": "code",
   "execution_count": 71,
   "metadata": {},
   "outputs": [],
   "source": [
    "import pandas as pd\n",
    "import matplotlib.pyplot as plt"
   ]
  },
  {
   "cell_type": "code",
   "execution_count": 74,
   "metadata": {},
   "outputs": [
    {
     "data": {
      "text/html": [
       "<div>\n",
       "<style scoped>\n",
       "    .dataframe tbody tr th:only-of-type {\n",
       "        vertical-align: middle;\n",
       "    }\n",
       "\n",
       "    .dataframe tbody tr th {\n",
       "        vertical-align: top;\n",
       "    }\n",
       "\n",
       "    .dataframe thead th {\n",
       "        text-align: right;\n",
       "    }\n",
       "</style>\n",
       "<table border=\"1\" class=\"dataframe\">\n",
       "  <thead>\n",
       "    <tr style=\"text-align: right;\">\n",
       "      <th></th>\n",
       "      <th>country</th>\n",
       "      <th>latitude</th>\n",
       "      <th>longitude</th>\n",
       "      <th>name</th>\n",
       "    </tr>\n",
       "  </thead>\n",
       "  <tbody>\n",
       "    <tr>\n",
       "      <th>0</th>\n",
       "      <td>AD</td>\n",
       "      <td>42.546245</td>\n",
       "      <td>1.601554</td>\n",
       "      <td>Andorra</td>\n",
       "    </tr>\n",
       "    <tr>\n",
       "      <th>1</th>\n",
       "      <td>AE</td>\n",
       "      <td>23.424076</td>\n",
       "      <td>53.847818</td>\n",
       "      <td>United Arab Emirates</td>\n",
       "    </tr>\n",
       "    <tr>\n",
       "      <th>2</th>\n",
       "      <td>AF</td>\n",
       "      <td>33.939110</td>\n",
       "      <td>67.709953</td>\n",
       "      <td>Afghanistan</td>\n",
       "    </tr>\n",
       "    <tr>\n",
       "      <th>3</th>\n",
       "      <td>AG</td>\n",
       "      <td>17.060816</td>\n",
       "      <td>-61.796428</td>\n",
       "      <td>Antigua and Barbuda</td>\n",
       "    </tr>\n",
       "    <tr>\n",
       "      <th>4</th>\n",
       "      <td>AI</td>\n",
       "      <td>18.220554</td>\n",
       "      <td>-63.068615</td>\n",
       "      <td>Anguilla</td>\n",
       "    </tr>\n",
       "    <tr>\n",
       "      <th>5</th>\n",
       "      <td>AL</td>\n",
       "      <td>41.153332</td>\n",
       "      <td>20.168331</td>\n",
       "      <td>Albania</td>\n",
       "    </tr>\n",
       "  </tbody>\n",
       "</table>\n",
       "</div>"
      ],
      "text/plain": [
       "  country   latitude  longitude                  name\n",
       "0      AD  42.546245   1.601554               Andorra\n",
       "1      AE  23.424076  53.847818  United Arab Emirates\n",
       "2      AF  33.939110  67.709953           Afghanistan\n",
       "3      AG  17.060816 -61.796428   Antigua and Barbuda\n",
       "4      AI  18.220554 -63.068615              Anguilla\n",
       "5      AL  41.153332  20.168331               Albania"
      ]
     },
     "execution_count": 74,
     "metadata": {},
     "output_type": "execute_result"
    }
   ],
   "source": [
    "local = pd.read_csv('Lat_countries.csv', engine='python', skipfooter=3)\n",
    "local.head(6)"
   ]
  },
  {
   "cell_type": "code",
   "execution_count": 78,
   "metadata": {},
   "outputs": [
    {
     "data": {
      "text/html": [
       "<div>\n",
       "<style scoped>\n",
       "    .dataframe tbody tr th:only-of-type {\n",
       "        vertical-align: middle;\n",
       "    }\n",
       "\n",
       "    .dataframe tbody tr th {\n",
       "        vertical-align: top;\n",
       "    }\n",
       "\n",
       "    .dataframe thead th {\n",
       "        text-align: right;\n",
       "    }\n",
       "</style>\n",
       "<table border=\"1\" class=\"dataframe\">\n",
       "  <thead>\n",
       "    <tr style=\"text-align: right;\">\n",
       "      <th></th>\n",
       "      <th>country</th>\n",
       "      <th>latitude</th>\n",
       "      <th>longitude</th>\n",
       "      <th>name</th>\n",
       "    </tr>\n",
       "  </thead>\n",
       "  <tbody>\n",
       "    <tr>\n",
       "      <th>45</th>\n",
       "      <td>CN</td>\n",
       "      <td>35.861660</td>\n",
       "      <td>104.195397</td>\n",
       "      <td>China</td>\n",
       "    </tr>\n",
       "    <tr>\n",
       "      <th>61</th>\n",
       "      <td>EG</td>\n",
       "      <td>26.820553</td>\n",
       "      <td>30.802498</td>\n",
       "      <td>Egypt</td>\n",
       "    </tr>\n",
       "    <tr>\n",
       "      <th>102</th>\n",
       "      <td>IN</td>\n",
       "      <td>20.593684</td>\n",
       "      <td>78.962880</td>\n",
       "      <td>India</td>\n",
       "    </tr>\n",
       "    <tr>\n",
       "      <th>107</th>\n",
       "      <td>IT</td>\n",
       "      <td>41.871940</td>\n",
       "      <td>12.567380</td>\n",
       "      <td>Italy</td>\n",
       "    </tr>\n",
       "    <tr>\n",
       "      <th>111</th>\n",
       "      <td>JP</td>\n",
       "      <td>36.204824</td>\n",
       "      <td>138.252924</td>\n",
       "      <td>Japan</td>\n",
       "    </tr>\n",
       "    <tr>\n",
       "      <th>189</th>\n",
       "      <td>SA</td>\n",
       "      <td>23.885942</td>\n",
       "      <td>45.079162</td>\n",
       "      <td>Saudi Arabia</td>\n",
       "    </tr>\n",
       "    <tr>\n",
       "      <th>219</th>\n",
       "      <td>TR</td>\n",
       "      <td>38.963745</td>\n",
       "      <td>35.243322</td>\n",
       "      <td>Turkey</td>\n",
       "    </tr>\n",
       "    <tr>\n",
       "      <th>227</th>\n",
       "      <td>US</td>\n",
       "      <td>37.090240</td>\n",
       "      <td>-95.712891</td>\n",
       "      <td>United States</td>\n",
       "    </tr>\n",
       "  </tbody>\n",
       "</table>\n",
       "</div>"
      ],
      "text/plain": [
       "    country   latitude   longitude           name\n",
       "45       CN  35.861660  104.195397          China\n",
       "61       EG  26.820553   30.802498          Egypt\n",
       "102      IN  20.593684   78.962880          India\n",
       "107      IT  41.871940   12.567380          Italy\n",
       "111      JP  36.204824  138.252924          Japan\n",
       "189      SA  23.885942   45.079162   Saudi Arabia\n",
       "219      TR  38.963745   35.243322         Turkey\n",
       "227      US  37.090240  -95.712891  United States"
      ]
     },
     "execution_count": 78,
     "metadata": {},
     "output_type": "execute_result"
    }
   ],
   "source": [
    "local = local[local.name.isin(FR_List)]\n",
    "local.head(10)"
   ]
  },
  {
   "cell_type": "code",
   "execution_count": 79,
   "metadata": {},
   "outputs": [
    {
     "data": {
      "text/plain": [
       "8"
      ]
     },
     "execution_count": 79,
     "metadata": {},
     "output_type": "execute_result"
    }
   ],
   "source": [
    "len(local) "
   ]
  },
  {
   "cell_type": "code",
   "execution_count": null,
   "metadata": {},
   "outputs": [],
   "source": []
  },
  {
   "cell_type": "markdown",
   "metadata": {},
   "source": []
  }
 ],
 "metadata": {
  "interpreter": {
   "hash": "0d94aeb0fda600462896a7de48466bc69c99574dd7deb896b47301d9a511e794"
  },
  "kernelspec": {
   "display_name": "Python 3.10.1 64-bit",
   "language": "python",
   "name": "python3"
  },
  "language_info": {
   "codemirror_mode": {
    "name": "ipython",
    "version": 3
   },
   "file_extension": ".py",
   "mimetype": "text/x-python",
   "name": "python",
   "nbconvert_exporter": "python",
   "pygments_lexer": "ipython3",
   "version": "3.10.1"
  },
  "orig_nbformat": 4
 },
 "nbformat": 4,
 "nbformat_minor": 2
}
