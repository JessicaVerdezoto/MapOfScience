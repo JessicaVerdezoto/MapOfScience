{
 "cells": [
  {
   "cell_type": "markdown",
   "metadata": {},
   "source": [
    "\n",
    " # Adaptación del Ejercicio 5.9.2, Map of Science \n",
    "## Se realiza una busqueda del tema de interes, Fusarium oxysporum.\n",
    "    \"Importamos los modules a usar desde PubMed.\""
   ]
  },
  {
   "cell_type": "code",
   "execution_count": 11,
   "metadata": {},
   "outputs": [],
   "source": [
    "%config IPCompleter.greedy=True"
   ]
  },
  {
   "cell_type": "code",
   "execution_count": 16,
   "metadata": {},
   "outputs": [],
   "source": [
    "import re\n",
    "import csv\n",
    "import itertools"
   ]
  },
  {
   "cell_type": "code",
   "execution_count": 28,
   "metadata": {},
   "outputs": [],
   "source": [
    "with open('pubmed-fusariumox-set.txt', encoding=\"utf8\") as f:\n",
    "    info = f.read()"
   ]
  },
  {
   "cell_type": "code",
   "execution_count": 29,
   "metadata": {},
   "outputs": [
    {
     "data": {
      "text/plain": [
       "33405"
      ]
     },
     "execution_count": 29,
     "metadata": {},
     "output_type": "execute_result"
    }
   ],
   "source": [
    "# info\n",
    "len (info)"
   ]
  },
  {
   "cell_type": "code",
   "execution_count": 30,
   "metadata": {},
   "outputs": [],
   "source": [
    "info = re.sub(r'\\n\\s{6}', ' ', info)\n"
   ]
  },
  {
   "cell_type": "code",
   "execution_count": 32,
   "metadata": {},
   "outputs": [
    {
     "data": {
      "text/plain": [
       "['',\n",
       " 'MA',\n",
       " 'USA',\n",
       " 'China',\n",
       " 'United States',\n",
       " 'Saudi Arabia',\n",
       " 'Egypt',\n",
       " 'India',\n",
       " 'Turkey',\n",
       " 'Italy',\n",
       " 'Japan']"
      ]
     },
     "execution_count": 32,
     "metadata": {},
     "output_type": "execute_result"
    }
   ],
   "source": [
    "codes = re.findall(r'AD.+, (.+[a-z-A-Z]).  ?Electronic|AD.+, (.+[a-z-A-Z]).  [^\\s<>\"]+@[^\\s<>\"]+|AD.+, (.+[a-z-A-Z]). [^\\s<>\"]+@[^\\s<>\"]+|AD.+,  ?(.+[a-z-A-Z]).?|', info)\n",
    "\n",
    "basic_list = itertools.chain(*codes)\n",
    "basic_list=list(basic_list)\n",
    "basic_list\n",
    "\n",
    "FR_List = [] \n",
    "for element in basic_list:\n",
    "    if element not in FR_List:\n",
    "        FR_List.append(element)\n",
    "\n",
    "FR_List[:40]"
   ]
  },
  {
   "cell_type": "code",
   "execution_count": 33,
   "metadata": {},
   "outputs": [
    {
     "data": {
      "text/plain": [
       "11"
      ]
     },
     "execution_count": 33,
     "metadata": {},
     "output_type": "execute_result"
    }
   ],
   "source": [
    "len(FR_List)"
   ]
  },
  {
   "cell_type": "code",
   "execution_count": 34,
   "metadata": {},
   "outputs": [
    {
     "name": "stdout",
     "output_type": "stream",
     "text": [
      "PMID- 32692281\n",
      "OWN - NLM\n",
      "STAT- MEDLINE\n",
      "DCOM- 20200903\n",
      "LR  - 20210502\n",
      "IS  - 0031-949X (Print)\n",
      "IS  - 1943-7684 (Electronic)\n",
      "IS  - 0031-949X (Linking)\n",
      "VI  - 110\n",
      "IP  - 9\n",
      "DP  - 2020 Sep\n",
      "TI  - Accessory Chromosomes in Fusarium oxysporum.\n",
      "PG  - 1488-1496\n",
      "LID - 10.1094/PHYTO-03-20-0069-IA [doi]\n",
      "AB  - Most genomes within the species complex of Fusarium oxysporum are organized into two  compartments: the core chromosomes (CCs) and accessory chromosomes (ACs). As opposed  to CCs, which are conserved and vertically transmitted to carry out essential  housekeeping functions, lineage- or strain-specific ACs are believed to be initially  horizontally acquired through unclear mechanisms. These two genomic compartments are  different in terms of gene density, the distribution of transposable elements, and  epigenetic markers. Although common in eukaryotes, the functional importance of ACs  is uniquely emphasized among fungal species, specifically in relationship to fungal  pathogenicity and their adapt\n"
     ]
    }
   ],
   "source": [
    "print(info[:1000])"
   ]
  },
  {
   "cell_type": "code",
   "execution_count": 38,
   "metadata": {},
   "outputs": [
    {
     "name": "stderr",
     "output_type": "stream",
     "text": [
      "Matplotlib is building the font cache; this may take a moment.\n"
     ]
    }
   ],
   "source": [
    "import pandas as pd\n",
    "import matplotlib.pyplot as plt"
   ]
  },
  {
   "cell_type": "code",
   "execution_count": null,
   "metadata": {},
   "outputs": [],
   "source": [
    "location = pd.read_csv('countries.csv', engine='python', skipfooter=3)\n",
    "location.head(5)"
   ]
  },
  {
   "cell_type": "markdown",
   "metadata": {},
   "source": []
  }
 ],
 "metadata": {
  "interpreter": {
   "hash": "0d94aeb0fda600462896a7de48466bc69c99574dd7deb896b47301d9a511e794"
  },
  "kernelspec": {
   "display_name": "Python 3.10.1 64-bit",
   "language": "python",
   "name": "python3"
  },
  "language_info": {
   "codemirror_mode": {
    "name": "ipython",
    "version": 3
   },
   "file_extension": ".py",
   "mimetype": "text/x-python",
   "name": "python",
   "nbconvert_exporter": "python",
   "pygments_lexer": "ipython3",
   "version": "3.10.1"
  },
  "orig_nbformat": 4
 },
 "nbformat": 4,
 "nbformat_minor": 2
}
