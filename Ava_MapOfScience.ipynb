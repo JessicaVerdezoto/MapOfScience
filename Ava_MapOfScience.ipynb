{
 "cells": [
  {
   "cell_type": "markdown",
   "metadata": {},
   "source": [
    "\n",
    " # Adaptación del Ejercicio 5.9.2, Map of Science \n",
    "## Se realiza una busqueda del tema de interes, Fusarium oxysporum.\n",
    "    \"Importamos los modules a usar desde PubMed.\""
   ]
  },
  {
   "cell_type": "code",
   "execution_count": 54,
   "metadata": {},
   "outputs": [],
   "source": [
    "%config IPCompleter.greedy=True"
   ]
  },
  {
   "cell_type": "code",
   "execution_count": 61,
   "metadata": {},
   "outputs": [],
   "source": [
    "import re\n",
    "import csv\n",
    "import itertools"
   ]
  },
  {
   "cell_type": "code",
   "execution_count": 62,
   "metadata": {},
   "outputs": [],
   "source": [
    "with open('pubmed-fusariumox-set.txt', encoding=\"utf8\") as f:\n",
    "    info = f.read()"
   ]
  },
  {
   "cell_type": "code",
   "execution_count": 66,
   "metadata": {},
   "outputs": [
    {
     "data": {
      "text/plain": [
       "33405"
      ]
     },
     "execution_count": 66,
     "metadata": {},
     "output_type": "execute_result"
    }
   ],
   "source": [
    "# info\n",
    "len (info)"
   ]
  },
  {
   "cell_type": "code",
   "execution_count": 67,
   "metadata": {},
   "outputs": [],
   "source": [
    "info = re.sub(r'\\n\\s{6}', ' ', info)\n"
   ]
  },
  {
   "cell_type": "code",
   "execution_count": 68,
   "metadata": {},
   "outputs": [
    {
     "name": "stdout",
     "output_type": "stream",
     "text": [
      "PMID- 32692281\n",
      "OWN - NLM\n",
      "STAT- MEDLINE\n",
      "DCOM- 20200903\n",
      "LR  - 20210502\n",
      "IS  - 0031-949X (Print)\n",
      "IS  - 1943-7684 (Electronic)\n",
      "IS  - 0031-949X (Linking)\n",
      "VI  - 110\n",
      "IP  - 9\n",
      "DP  - 2020 Sep\n",
      "TI  - Accessory Chromosomes in Fusarium oxysporum.\n",
      "PG  - 1488-1496\n",
      "LID - 10.1094/PHYTO-03-20-0069-IA [doi]\n",
      "AB  - Most genomes within the species complex of Fusarium oxysporum are organized into two  compartments: the core chromosomes (CCs) and accessory chromosomes (ACs). As opposed  to CCs, which are conserved and vertically transmitted to carry out essential  housekeeping functions, lineage- or strain-specific ACs are believed to be initially  horizontally acquired through unclear mechanisms. These two genomic compartments are  different in terms of gene density, the distribution of transposable elements, and  epigenetic markers. Although common in eukaryotes, the functional importance of ACs  is uniquely emphasized among fungal species, specifically in relationship to fungal  pathogenicity and their adaptation to diverse hosts. With a focus on the  cross-kingdom fungal pathogen F. oxysporum, this review provides a summary of the  differences between CCs and ACs based on current knowledge of gene functions, genome  structures, and epigenetic signatures, and explores the transcriptional crosstalk  between the core and accessory genomes.\n",
      "FAU - Yang, He\n",
      "AU  - Yang H\n",
      "AD  - University of Massachusetts, Biochemistry and Molecular Biology, Amherst, MA 01003.\n",
      "FAU - Yu, Houlin\n",
      "AU  - Yu H\n",
      "AD  - University of Massachusetts, Biochemistry and Molecular Biology, Amherst, MA 01003.\n",
      "FAU - Ma, Li-Jun\n",
      "AU  - Ma LJ\n",
      "AUID- ORCID: 0000-0002-2733-3708\n",
      "AD  - University of Massachusetts, Biochemistry and Molecular Biology, Amherst, MA 01003.\n",
      "LA  - eng\n",
      "GR  - R01 EY030150/EY/NEI NIH HHS/United States\n",
      "PT  - Journal Article\n",
      "PT  - Review\n",
      "DEP - 20200806\n",
      "TA  - Phytopathology\n",
      "JT  - Phytopathology\n",
      "JID - 9427222\n",
      "SB  - IM\n",
      "MH  - Chromosomes, Fungal\n",
      "MH  - Fusarium/*genetics\n",
      "MH  - Genome, Fungal\n",
      "MH  - Phylogeny\n",
      "MH  - Plant Di\n"
     ]
    }
   ],
   "source": [
    "print(info[:2000])"
   ]
  },
  {
   "cell_type": "code",
   "execution_count": 59,
   "metadata": {},
   "outputs": [
    {
     "data": {
      "text/plain": [
       "['',\n",
       " 'MA',\n",
       " 'USA',\n",
       " 'China',\n",
       " 'United States',\n",
       " 'Saudi Arabia',\n",
       " 'Egypt',\n",
       " 'India',\n",
       " 'Turkey',\n",
       " 'Italy',\n",
       " 'Japan']"
      ]
     },
     "execution_count": 59,
     "metadata": {},
     "output_type": "execute_result"
    }
   ],
   "source": [
    "codes = re.findall(r'AD.+, (.+[a-z-A-Z]).  ?Electronic|AD.+, (.+[a-z-A-Z]).  [^\\s<>\"]+@[^\\s<>\"]+|AD.+, (.+[a-z-A-Z]). [^\\s<>\"]+@[^\\s<>\"]+|AD.+,  ?(.+[a-z-A-Z]).?|', info)\n",
    "\n",
    "basic_list = itertools.chain(*codes)\n",
    "basic_list=list(basic_list)\n",
    "basic_list\n",
    "\n",
    "FR_List = [] \n",
    "for element in basic_list:\n",
    "    if element not in FR_List:\n",
    "        FR_List.append(element)\n",
    "\n",
    "FR_List[:40]"
   ]
  },
  {
   "cell_type": "code",
   "execution_count": 60,
   "metadata": {},
   "outputs": [
    {
     "data": {
      "text/plain": [
       "11"
      ]
     },
     "execution_count": 60,
     "metadata": {},
     "output_type": "execute_result"
    }
   ],
   "source": [
    "len(FR_List)"
   ]
  },
  {
   "cell_type": "code",
   "execution_count": 69,
   "metadata": {},
   "outputs": [
    {
     "data": {
      "text/plain": [
       "['',\n",
       " 'China',\n",
       " 'Egypt',\n",
       " 'India',\n",
       " 'Italy',\n",
       " 'Japan',\n",
       " 'MA',\n",
       " 'Saudi Arabia',\n",
       " 'Turkey',\n",
       " 'USA']"
      ]
     },
     "execution_count": 69,
     "metadata": {},
     "output_type": "execute_result"
    }
   ],
   "source": [
    "unique_zipcodes = list(set(FR_List))\n",
    "unique_zipcodes.sort()\n",
    "unique_zipcodes[:10]"
   ]
  },
  {
   "cell_type": "code",
   "execution_count": 70,
   "metadata": {},
   "outputs": [
    {
     "data": {
      "text/plain": [
       "11"
      ]
     },
     "execution_count": 70,
     "metadata": {},
     "output_type": "execute_result"
    }
   ],
   "source": [
    "len(unique_zipcodes)"
   ]
  },
  {
   "cell_type": "code",
   "execution_count": 71,
   "metadata": {},
   "outputs": [],
   "source": [
    "import pandas as pd\n",
    "import matplotlib.pyplot as plt"
   ]
  },
  {
   "cell_type": "code",
   "execution_count": 74,
   "metadata": {},
   "outputs": [
    {
     "data": {
      "text/html": [
       "<div>\n",
       "<style scoped>\n",
       "    .dataframe tbody tr th:only-of-type {\n",
       "        vertical-align: middle;\n",
       "    }\n",
       "\n",
       "    .dataframe tbody tr th {\n",
       "        vertical-align: top;\n",
       "    }\n",
       "\n",
       "    .dataframe thead th {\n",
       "        text-align: right;\n",
       "    }\n",
       "</style>\n",
       "<table border=\"1\" class=\"dataframe\">\n",
       "  <thead>\n",
       "    <tr style=\"text-align: right;\">\n",
       "      <th></th>\n",
       "      <th>country</th>\n",
       "      <th>latitude</th>\n",
       "      <th>longitude</th>\n",
       "      <th>name</th>\n",
       "    </tr>\n",
       "  </thead>\n",
       "  <tbody>\n",
       "    <tr>\n",
       "      <th>0</th>\n",
       "      <td>AD</td>\n",
       "      <td>42.546245</td>\n",
       "      <td>1.601554</td>\n",
       "      <td>Andorra</td>\n",
       "    </tr>\n",
       "    <tr>\n",
       "      <th>1</th>\n",
       "      <td>AE</td>\n",
       "      <td>23.424076</td>\n",
       "      <td>53.847818</td>\n",
       "      <td>United Arab Emirates</td>\n",
       "    </tr>\n",
       "    <tr>\n",
       "      <th>2</th>\n",
       "      <td>AF</td>\n",
       "      <td>33.939110</td>\n",
       "      <td>67.709953</td>\n",
       "      <td>Afghanistan</td>\n",
       "    </tr>\n",
       "    <tr>\n",
       "      <th>3</th>\n",
       "      <td>AG</td>\n",
       "      <td>17.060816</td>\n",
       "      <td>-61.796428</td>\n",
       "      <td>Antigua and Barbuda</td>\n",
       "    </tr>\n",
       "    <tr>\n",
       "      <th>4</th>\n",
       "      <td>AI</td>\n",
       "      <td>18.220554</td>\n",
       "      <td>-63.068615</td>\n",
       "      <td>Anguilla</td>\n",
       "    </tr>\n",
       "    <tr>\n",
       "      <th>5</th>\n",
       "      <td>AL</td>\n",
       "      <td>41.153332</td>\n",
       "      <td>20.168331</td>\n",
       "      <td>Albania</td>\n",
       "    </tr>\n",
       "  </tbody>\n",
       "</table>\n",
       "</div>"
      ],
      "text/plain": [
       "  country   latitude  longitude                  name\n",
       "0      AD  42.546245   1.601554               Andorra\n",
       "1      AE  23.424076  53.847818  United Arab Emirates\n",
       "2      AF  33.939110  67.709953           Afghanistan\n",
       "3      AG  17.060816 -61.796428   Antigua and Barbuda\n",
       "4      AI  18.220554 -63.068615              Anguilla\n",
       "5      AL  41.153332  20.168331               Albania"
      ]
     },
     "execution_count": 74,
     "metadata": {},
     "output_type": "execute_result"
    }
   ],
   "source": [
    "local = pd.read_csv('Lat_countries.csv', engine='python', skipfooter=3)\n",
    "local.head(6)"
   ]
  },
  {
   "cell_type": "code",
   "execution_count": 78,
   "metadata": {},
   "outputs": [
    {
     "data": {
      "text/html": [
       "<div>\n",
       "<style scoped>\n",
       "    .dataframe tbody tr th:only-of-type {\n",
       "        vertical-align: middle;\n",
       "    }\n",
       "\n",
       "    .dataframe tbody tr th {\n",
       "        vertical-align: top;\n",
       "    }\n",
       "\n",
       "    .dataframe thead th {\n",
       "        text-align: right;\n",
       "    }\n",
       "</style>\n",
       "<table border=\"1\" class=\"dataframe\">\n",
       "  <thead>\n",
       "    <tr style=\"text-align: right;\">\n",
       "      <th></th>\n",
       "      <th>country</th>\n",
       "      <th>latitude</th>\n",
       "      <th>longitude</th>\n",
       "      <th>name</th>\n",
       "    </tr>\n",
       "  </thead>\n",
       "  <tbody>\n",
       "    <tr>\n",
       "      <th>45</th>\n",
       "      <td>CN</td>\n",
       "      <td>35.861660</td>\n",
       "      <td>104.195397</td>\n",
       "      <td>China</td>\n",
       "    </tr>\n",
       "    <tr>\n",
       "      <th>61</th>\n",
       "      <td>EG</td>\n",
       "      <td>26.820553</td>\n",
       "      <td>30.802498</td>\n",
       "      <td>Egypt</td>\n",
       "    </tr>\n",
       "    <tr>\n",
       "      <th>102</th>\n",
       "      <td>IN</td>\n",
       "      <td>20.593684</td>\n",
       "      <td>78.962880</td>\n",
       "      <td>India</td>\n",
       "    </tr>\n",
       "    <tr>\n",
       "      <th>107</th>\n",
       "      <td>IT</td>\n",
       "      <td>41.871940</td>\n",
       "      <td>12.567380</td>\n",
       "      <td>Italy</td>\n",
       "    </tr>\n",
       "    <tr>\n",
       "      <th>111</th>\n",
       "      <td>JP</td>\n",
       "      <td>36.204824</td>\n",
       "      <td>138.252924</td>\n",
       "      <td>Japan</td>\n",
       "    </tr>\n",
       "    <tr>\n",
       "      <th>189</th>\n",
       "      <td>SA</td>\n",
       "      <td>23.885942</td>\n",
       "      <td>45.079162</td>\n",
       "      <td>Saudi Arabia</td>\n",
       "    </tr>\n",
       "    <tr>\n",
       "      <th>219</th>\n",
       "      <td>TR</td>\n",
       "      <td>38.963745</td>\n",
       "      <td>35.243322</td>\n",
       "      <td>Turkey</td>\n",
       "    </tr>\n",
       "    <tr>\n",
       "      <th>227</th>\n",
       "      <td>US</td>\n",
       "      <td>37.090240</td>\n",
       "      <td>-95.712891</td>\n",
       "      <td>United States</td>\n",
       "    </tr>\n",
       "  </tbody>\n",
       "</table>\n",
       "</div>"
      ],
      "text/plain": [
       "    country   latitude   longitude           name\n",
       "45       CN  35.861660  104.195397          China\n",
       "61       EG  26.820553   30.802498          Egypt\n",
       "102      IN  20.593684   78.962880          India\n",
       "107      IT  41.871940   12.567380          Italy\n",
       "111      JP  36.204824  138.252924          Japan\n",
       "189      SA  23.885942   45.079162   Saudi Arabia\n",
       "219      TR  38.963745   35.243322         Turkey\n",
       "227      US  37.090240  -95.712891  United States"
      ]
     },
     "execution_count": 78,
     "metadata": {},
     "output_type": "execute_result"
    }
   ],
   "source": [
    "local = local[local.name.isin(FR_List)]\n",
    "local.head(10)"
   ]
  },
  {
   "cell_type": "code",
   "execution_count": 79,
   "metadata": {},
   "outputs": [
    {
     "data": {
      "text/plain": [
       "8"
      ]
     },
     "execution_count": 79,
     "metadata": {},
     "output_type": "execute_result"
    }
   ],
   "source": [
    "len(local) "
   ]
  },
  {
   "cell_type": "code",
   "execution_count": 81,
   "metadata": {},
   "outputs": [],
   "source": [
    "ubication =pd.concat([local]).drop_duplicates().sort_values('name')"
   ]
  },
  {
   "cell_type": "code",
   "execution_count": 83,
   "metadata": {},
   "outputs": [
    {
     "ename": "ValueError",
     "evalue": "'tab:purplue' is not a valid value for color",
     "output_type": "error",
     "traceback": [
      "\u001b[1;31m---------------------------------------------------------------------------\u001b[0m",
      "\u001b[1;31mValueError\u001b[0m                                Traceback (most recent call last)",
      "\u001b[1;32mc:\\Users\\INTEL\\Documents\\GitHub\\MapOfScience\\Ava_MapOfScience.ipynb Cell 17'\u001b[0m in \u001b[0;36m<module>\u001b[1;34m\u001b[0m\n\u001b[0;32m      <a href='vscode-notebook-cell:/c%3A/Users/INTEL/Documents/GitHub/MapOfScience/Ava_MapOfScience.ipynb#ch0000025?line=2'>3</a>\u001b[0m ard \u001b[39m=\u001b[39m \u001b[39mdict\u001b[39m(arrowstyle\u001b[39m=\u001b[39m\u001b[39m\"\u001b[39m\u001b[39m->\u001b[39m\u001b[39m\"\u001b[39m)\n\u001b[0;32m      <a href='vscode-notebook-cell:/c%3A/Users/INTEL/Documents/GitHub/MapOfScience/Ava_MapOfScience.ipynb#ch0000025?line=3'>4</a>\u001b[0m plt\u001b[39m.\u001b[39mannotate(\u001b[39m'\u001b[39m\u001b[39mUSA\u001b[39m\u001b[39m'\u001b[39m, xy \u001b[39m=\u001b[39m (\u001b[39m-\u001b[39m\u001b[39m95.712891\u001b[39m, \u001b[39m37.09024\u001b[39m), \n\u001b[0;32m      <a href='vscode-notebook-cell:/c%3A/Users/INTEL/Documents/GitHub/MapOfScience/Ava_MapOfScience.ipynb#ch0000025?line=4'>5</a>\u001b[0m                xytext \u001b[39m=\u001b[39m (\u001b[39m-\u001b[39m\u001b[39m95.712891\u001b[39m, \u001b[39m40\u001b[39m), arrowprops \u001b[39m=\u001b[39m ard,color \u001b[39m=\u001b[39m \u001b[39m'\u001b[39m\u001b[39mtab:blue\u001b[39m\u001b[39m'\u001b[39m)\n\u001b[1;32m----> <a href='vscode-notebook-cell:/c%3A/Users/INTEL/Documents/GitHub/MapOfScience/Ava_MapOfScience.ipynb#ch0000025?line=5'>6</a>\u001b[0m plt\u001b[39m.\u001b[39;49mannotate(\u001b[39m'\u001b[39;49m\u001b[39mUKRAINE\u001b[39;49m\u001b[39m'\u001b[39;49m, xy \u001b[39m=\u001b[39;49m (\u001b[39m31.16558\u001b[39;49m,\u001b[39m48.379433\u001b[39;49m), \n\u001b[0;32m      <a href='vscode-notebook-cell:/c%3A/Users/INTEL/Documents/GitHub/MapOfScience/Ava_MapOfScience.ipynb#ch0000025?line=6'>7</a>\u001b[0m                xytext \u001b[39m=\u001b[39;49m (\u001b[39m31.16558\u001b[39;49m,\u001b[39m51\u001b[39;49m), arrowprops\u001b[39m=\u001b[39;49m ard,color \u001b[39m=\u001b[39;49m \u001b[39m'\u001b[39;49m\u001b[39mtab:purplue\u001b[39;49m\u001b[39m'\u001b[39;49m)\n\u001b[0;32m      <a href='vscode-notebook-cell:/c%3A/Users/INTEL/Documents/GitHub/MapOfScience/Ava_MapOfScience.ipynb#ch0000025?line=7'>8</a>\u001b[0m plt\u001b[39m.\u001b[39mannotate(\u001b[39m'\u001b[39m\u001b[39mBRAZIL\u001b[39m\u001b[39m'\u001b[39m, xy \u001b[39m=\u001b[39m (\u001b[39m-\u001b[39m\u001b[39m51.92528\u001b[39m, \u001b[39m-\u001b[39m\u001b[39m14.235004\u001b[39m), \n\u001b[0;32m      <a href='vscode-notebook-cell:/c%3A/Users/INTEL/Documents/GitHub/MapOfScience/Ava_MapOfScience.ipynb#ch0000025?line=8'>9</a>\u001b[0m                xytext \u001b[39m=\u001b[39m (\u001b[39m-\u001b[39m\u001b[39m51.92528\u001b[39m, \u001b[39m-\u001b[39m\u001b[39m11\u001b[39m), arrowprops\u001b[39m=\u001b[39m ard,color \u001b[39m=\u001b[39m \u001b[39m'\u001b[39m\u001b[39mtab:red\u001b[39m\u001b[39m'\u001b[39m)\n\u001b[0;32m     <a href='vscode-notebook-cell:/c%3A/Users/INTEL/Documents/GitHub/MapOfScience/Ava_MapOfScience.ipynb#ch0000025?line=9'>10</a>\u001b[0m plt\u001b[39m.\u001b[39mannotate(\u001b[39m'\u001b[39m\u001b[39mCHINA\u001b[39m\u001b[39m'\u001b[39m, xy \u001b[39m=\u001b[39m (\u001b[39m104.195397\u001b[39m, \u001b[39m35.86166\u001b[39m), \n\u001b[0;32m     <a href='vscode-notebook-cell:/c%3A/Users/INTEL/Documents/GitHub/MapOfScience/Ava_MapOfScience.ipynb#ch0000025?line=10'>11</a>\u001b[0m                xytext \u001b[39m=\u001b[39m (\u001b[39m104.195397\u001b[39m, \u001b[39m39\u001b[39m), arrowprops\u001b[39m=\u001b[39m ard,color \u001b[39m=\u001b[39m \u001b[39m'\u001b[39m\u001b[39mtab:grey\u001b[39m\u001b[39m'\u001b[39m)\n",
      "File \u001b[1;32m~\\AppData\\Local\\Programs\\Python\\Python310\\lib\\site-packages\\matplotlib\\pyplot.py:2331\u001b[0m, in \u001b[0;36mannotate\u001b[1;34m(text, xy, *args, **kwargs)\u001b[0m\n\u001b[0;32m   <a href='file:///~/AppData/Local/Programs/Python/Python310/lib/site-packages/matplotlib/pyplot.py?line=2328'>2329</a>\u001b[0m \u001b[39m@_copy_docstring_and_deprecators\u001b[39m(Axes\u001b[39m.\u001b[39mannotate)\n\u001b[0;32m   <a href='file:///~/AppData/Local/Programs/Python/Python310/lib/site-packages/matplotlib/pyplot.py?line=2329'>2330</a>\u001b[0m \u001b[39mdef\u001b[39;00m \u001b[39mannotate\u001b[39m(text, xy, \u001b[39m*\u001b[39margs, \u001b[39m*\u001b[39m\u001b[39m*\u001b[39mkwargs):\n\u001b[1;32m-> <a href='file:///~/AppData/Local/Programs/Python/Python310/lib/site-packages/matplotlib/pyplot.py?line=2330'>2331</a>\u001b[0m     \u001b[39mreturn\u001b[39;00m gca()\u001b[39m.\u001b[39mannotate(text, xy, \u001b[39m*\u001b[39margs, \u001b[39m*\u001b[39m\u001b[39m*\u001b[39mkwargs)\n",
      "File \u001b[1;32m~\\AppData\\Local\\Programs\\Python\\Python310\\lib\\site-packages\\matplotlib\\axes\\_axes.py:666\u001b[0m, in \u001b[0;36mAxes.annotate\u001b[1;34m(self, text, xy, *args, **kwargs)\u001b[0m\n\u001b[0;32m    <a href='file:///~/AppData/Local/Programs/Python/Python310/lib/site-packages/matplotlib/axes/_axes.py?line=663'>664</a>\u001b[0m \u001b[39m@docstring\u001b[39m\u001b[39m.\u001b[39mdedent_interpd\n\u001b[0;32m    <a href='file:///~/AppData/Local/Programs/Python/Python310/lib/site-packages/matplotlib/axes/_axes.py?line=664'>665</a>\u001b[0m \u001b[39mdef\u001b[39;00m \u001b[39mannotate\u001b[39m(\u001b[39mself\u001b[39m, text, xy, \u001b[39m*\u001b[39margs, \u001b[39m*\u001b[39m\u001b[39m*\u001b[39mkwargs):\n\u001b[1;32m--> <a href='file:///~/AppData/Local/Programs/Python/Python310/lib/site-packages/matplotlib/axes/_axes.py?line=665'>666</a>\u001b[0m     a \u001b[39m=\u001b[39m mtext\u001b[39m.\u001b[39mAnnotation(text, xy, \u001b[39m*\u001b[39margs, \u001b[39m*\u001b[39m\u001b[39m*\u001b[39mkwargs)\n\u001b[0;32m    <a href='file:///~/AppData/Local/Programs/Python/Python310/lib/site-packages/matplotlib/axes/_axes.py?line=666'>667</a>\u001b[0m     a\u001b[39m.\u001b[39mset_transform(mtransforms\u001b[39m.\u001b[39mIdentityTransform())\n\u001b[0;32m    <a href='file:///~/AppData/Local/Programs/Python/Python310/lib/site-packages/matplotlib/axes/_axes.py?line=667'>668</a>\u001b[0m     \u001b[39mif\u001b[39;00m \u001b[39m'\u001b[39m\u001b[39mclip_on\u001b[39m\u001b[39m'\u001b[39m \u001b[39min\u001b[39;00m kwargs:\n",
      "File \u001b[1;32m~\\AppData\\Local\\Programs\\Python\\Python310\\lib\\site-packages\\matplotlib\\text.py:1825\u001b[0m, in \u001b[0;36mAnnotation.__init__\u001b[1;34m(self, text, xy, xytext, xycoords, textcoords, arrowprops, annotation_clip, **kwargs)\u001b[0m\n\u001b[0;32m   <a href='file:///~/AppData/Local/Programs/Python/Python310/lib/site-packages/matplotlib/text.py?line=1821'>1822</a>\u001b[0m     \u001b[39mself\u001b[39m\u001b[39m.\u001b[39marrow_patch \u001b[39m=\u001b[39m \u001b[39mNone\u001b[39;00m\n\u001b[0;32m   <a href='file:///~/AppData/Local/Programs/Python/Python310/lib/site-packages/matplotlib/text.py?line=1823'>1824</a>\u001b[0m \u001b[39m# Must come last, as some kwargs may be propagated to arrow_patch.\u001b[39;00m\n\u001b[1;32m-> <a href='file:///~/AppData/Local/Programs/Python/Python310/lib/site-packages/matplotlib/text.py?line=1824'>1825</a>\u001b[0m Text\u001b[39m.\u001b[39m\u001b[39m__init__\u001b[39m(\u001b[39mself\u001b[39m, x, y, text, \u001b[39m*\u001b[39m\u001b[39m*\u001b[39mkwargs)\n",
      "File \u001b[1;32m~\\AppData\\Local\\Programs\\Python\\Python310\\lib\\site-packages\\matplotlib\\text.py:143\u001b[0m, in \u001b[0;36mText.__init__\u001b[1;34m(self, x, y, text, color, verticalalignment, horizontalalignment, multialignment, fontproperties, rotation, linespacing, rotation_mode, usetex, wrap, transform_rotates_text, parse_math, **kwargs)\u001b[0m\n\u001b[0;32m    <a href='file:///~/AppData/Local/Programs/Python/Python310/lib/site-packages/matplotlib/text.py?line=140'>141</a>\u001b[0m \u001b[39mself\u001b[39m\u001b[39m.\u001b[39m_text \u001b[39m=\u001b[39m \u001b[39m'\u001b[39m\u001b[39m'\u001b[39m\n\u001b[0;32m    <a href='file:///~/AppData/Local/Programs/Python/Python310/lib/site-packages/matplotlib/text.py?line=141'>142</a>\u001b[0m \u001b[39mself\u001b[39m\u001b[39m.\u001b[39mset_text(text)\n\u001b[1;32m--> <a href='file:///~/AppData/Local/Programs/Python/Python310/lib/site-packages/matplotlib/text.py?line=142'>143</a>\u001b[0m \u001b[39mself\u001b[39;49m\u001b[39m.\u001b[39;49mset_color(\n\u001b[0;32m    <a href='file:///~/AppData/Local/Programs/Python/Python310/lib/site-packages/matplotlib/text.py?line=143'>144</a>\u001b[0m     color \u001b[39mif\u001b[39;49;00m color \u001b[39mis\u001b[39;49;00m \u001b[39mnot\u001b[39;49;00m \u001b[39mNone\u001b[39;49;00m \u001b[39melse\u001b[39;49;00m mpl\u001b[39m.\u001b[39;49mrcParams[\u001b[39m\"\u001b[39;49m\u001b[39mtext.color\u001b[39;49m\u001b[39m\"\u001b[39;49m])\n\u001b[0;32m    <a href='file:///~/AppData/Local/Programs/Python/Python310/lib/site-packages/matplotlib/text.py?line=144'>145</a>\u001b[0m \u001b[39mself\u001b[39m\u001b[39m.\u001b[39mset_fontproperties(fontproperties)\n\u001b[0;32m    <a href='file:///~/AppData/Local/Programs/Python/Python310/lib/site-packages/matplotlib/text.py?line=145'>146</a>\u001b[0m \u001b[39mself\u001b[39m\u001b[39m.\u001b[39mset_usetex(usetex)\n",
      "File \u001b[1;32m~\\AppData\\Local\\Programs\\Python\\Python310\\lib\\site-packages\\matplotlib\\text.py:947\u001b[0m, in \u001b[0;36mText.set_color\u001b[1;34m(self, color)\u001b[0m\n\u001b[0;32m    <a href='file:///~/AppData/Local/Programs/Python/Python310/lib/site-packages/matplotlib/text.py?line=943'>944</a>\u001b[0m \u001b[39m# \"auto\" is only supported by axisartist, but we can just let it error\u001b[39;00m\n\u001b[0;32m    <a href='file:///~/AppData/Local/Programs/Python/Python310/lib/site-packages/matplotlib/text.py?line=944'>945</a>\u001b[0m \u001b[39m# out at draw time for simplicity.\u001b[39;00m\n\u001b[0;32m    <a href='file:///~/AppData/Local/Programs/Python/Python310/lib/site-packages/matplotlib/text.py?line=945'>946</a>\u001b[0m \u001b[39mif\u001b[39;00m \u001b[39mnot\u001b[39;00m cbook\u001b[39m.\u001b[39m_str_equal(color, \u001b[39m\"\u001b[39m\u001b[39mauto\u001b[39m\u001b[39m\"\u001b[39m):\n\u001b[1;32m--> <a href='file:///~/AppData/Local/Programs/Python/Python310/lib/site-packages/matplotlib/text.py?line=946'>947</a>\u001b[0m     mpl\u001b[39m.\u001b[39;49mcolors\u001b[39m.\u001b[39;49m_check_color_like(color\u001b[39m=\u001b[39;49mcolor)\n\u001b[0;32m    <a href='file:///~/AppData/Local/Programs/Python/Python310/lib/site-packages/matplotlib/text.py?line=947'>948</a>\u001b[0m \u001b[39m# Make sure it is hashable, or get_prop_tup will fail (remove this once\u001b[39;00m\n\u001b[0;32m    <a href='file:///~/AppData/Local/Programs/Python/Python310/lib/site-packages/matplotlib/text.py?line=948'>949</a>\u001b[0m \u001b[39m# get_prop_tup is removed).\u001b[39;00m\n\u001b[0;32m    <a href='file:///~/AppData/Local/Programs/Python/Python310/lib/site-packages/matplotlib/text.py?line=949'>950</a>\u001b[0m \u001b[39mtry\u001b[39;00m:\n",
      "File \u001b[1;32m~\\AppData\\Local\\Programs\\Python\\Python310\\lib\\site-packages\\matplotlib\\colors.py:130\u001b[0m, in \u001b[0;36m_check_color_like\u001b[1;34m(**kwargs)\u001b[0m\n\u001b[0;32m    <a href='file:///~/AppData/Local/Programs/Python/Python310/lib/site-packages/matplotlib/colors.py?line=127'>128</a>\u001b[0m \u001b[39mfor\u001b[39;00m k, v \u001b[39min\u001b[39;00m kwargs\u001b[39m.\u001b[39mitems():\n\u001b[0;32m    <a href='file:///~/AppData/Local/Programs/Python/Python310/lib/site-packages/matplotlib/colors.py?line=128'>129</a>\u001b[0m     \u001b[39mif\u001b[39;00m \u001b[39mnot\u001b[39;00m is_color_like(v):\n\u001b[1;32m--> <a href='file:///~/AppData/Local/Programs/Python/Python310/lib/site-packages/matplotlib/colors.py?line=129'>130</a>\u001b[0m         \u001b[39mraise\u001b[39;00m \u001b[39mValueError\u001b[39;00m(\u001b[39mf\u001b[39m\u001b[39m\"\u001b[39m\u001b[39m{\u001b[39;00mv\u001b[39m!r}\u001b[39;00m\u001b[39m is not a valid value for \u001b[39m\u001b[39m{\u001b[39;00mk\u001b[39m}\u001b[39;00m\u001b[39m\"\u001b[39m)\n",
      "\u001b[1;31mValueError\u001b[0m: 'tab:purplue' is not a valid value for color"
     ]
    },
    {
     "data": {
      "image/png": "[encoded data removed]",
      "text/plain": [
       "<Figure size 432x288 with 1 Axes>"
      ]
     },
     "metadata": {
      "needs_background": "light"
     },
     "output_type": "display_data"
    }
   ],
   "source": [
    "plt.scatter(ubication.longitude, ubication.latitude, s=50, c=ubication.latitude)\n",
    "\n",
    "ard = dict(arrowstyle=\"->\")\n",
    "plt.annotate('USA', xy = (-95.712891, 37.09024), \n",
    "               xytext = (-95.712891, 40), arrowprops = ard,color = 'tab:blue')\n",
    "plt.annotate('UKRAINE', xy = (31.16558,48.379433), \n",
    "               xytext = (31.16558,51), arrowprops= ard,color = 'tab:purplue')\n",
    "plt.annotate('BRAZIL', xy = (-51.92528, -14.235004), \n",
    "               xytext = (-51.92528, -11), arrowprops= ard,color = 'tab:red')\n",
    "plt.annotate('CHINA', xy = (104.195397, 35.86166), \n",
    "               xytext = (104.195397, 39), arrowprops= ard,color = 'tab:grey')\n",
    "plt.annotate('AUSTRALIA', xy = (133.775136, -25.274398), \n",
    "               xytext = (133.775136, -22), arrowprops= ard,color = 'tab:pink')\n",
    "plt.annotate('NORWAY', xy = (8.468946, 60.472024), \n",
    "               xytext = (8.468946, 63), arrowprops= ard,color = 'tab:greenwish')\n",
    "\n",
    "params = plt.gcf()\n",
    "plSize = params.get_size_inches()\n",
    "params.set_size_inches( (plSize[0] * 3, plSize[1] * 3) )"
   ]
  },
  {
   "cell_type": "code",
   "execution_count": null,
   "metadata": {},
   "outputs": [],
   "source": []
  },
  {
   "cell_type": "code",
   "execution_count": null,
   "metadata": {},
   "outputs": [],
   "source": []
  },
  {
   "cell_type": "markdown",
   "metadata": {},
   "source": []
  }
 ],
 "metadata": {
  "interpreter": {
   "hash": "0d94aeb0fda600462896a7de48466bc69c99574dd7deb896b47301d9a511e794"
  },
  "kernelspec": {
   "display_name": "Python 3.10.1 64-bit",
   "language": "python",
   "name": "python3"
  },
  "language_info": {
   "codemirror_mode": {
    "name": "ipython",
    "version": 3
   },
   "file_extension": ".py",
   "mimetype": "text/x-python",
   "name": "python",
   "nbconvert_exporter": "python",
   "pygments_lexer": "ipython3",
   "version": "3.10.1"
  },
  "orig_nbformat": 4
 },
 "nbformat": 4,
 "nbformat_minor": 2
}
