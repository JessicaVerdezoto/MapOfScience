
{
 "cells": [
  {
   "cell_type": "markdown",
   "metadata": {},
   "source": [
    "# Adaptación del ejercico 5.9.2, Map of Science ",
    "### Se realiza una busqueda de un tema en interes, Fusarium oxysporum."
   ]
  },
  {
   "cell_type": "markdown",
   "metadata": {},
   "source": [
    "Importamos los modulos que vamos a necesitar."
 

