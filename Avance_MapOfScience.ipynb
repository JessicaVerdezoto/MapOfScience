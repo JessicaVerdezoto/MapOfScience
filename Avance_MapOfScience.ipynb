{
 "cells": [
  {
   "cell_type": "code",
   "execution_count": null,
   "metadata": {},
   "outputs": [],
   "source": [
    "{\n",
    " \"cells\": [\n",
    "  {\n",
    "   \"cell_type\": \"markdown\",\n",
    "   \"metadata\": {},\n",
    "   \"source\": [\n",
    "# Adaptación del ejercico 5.9.2, Map of Science ",
    "### Se realiza una busqueda de un tema en interes, Fusarium oxysporum."
   ]
  },
  {
   "cell_type": "markdown",
   "metadata": {},
   "source": [
    "Importamos los modulos que vamos a necesitar."
 

