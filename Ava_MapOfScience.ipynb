{
 "cells": [
  {
   "cell_type": "markdown",
   "metadata": {},
   "source": [
    "\n",
    " # Adaptación del Ejercicio 5.9.2, Map of Science \n",
    "## Se realiza una busqueda del tema de interes, Fusarium oxysporum.\n",
    "    \"Importamos los modules a usar desde PubMed.\""
   ]
  },
  {
   "cell_type": "code",
   "execution_count": 11,
   "metadata": {},
   "outputs": [],
   "source": [
    "%config IPCompleter.greedy=True"
   ]
  },
  {
   "cell_type": "code",
   "execution_count": 16,
   "metadata": {},
   "outputs": [],
   "source": [
    "import re\n",
    "import csv\n",
    "import itertools"
   ]
  },
  {
   "cell_type": "code",
   "execution_count": 28,
   "metadata": {},
   "outputs": [],
   "source": [
    "with open('pubmed-fusariumox-set.txt', encoding=\"utf8\") as f:\n",
    "    info = f.read()"
   ]
  },
  {
   "cell_type": "code",
   "execution_count": 29,
   "metadata": {},
   "outputs": [
    {
     "data": {
      "text/plain": [
       "33405"
      ]
     },
     "execution_count": 29,
     "metadata": {},
     "output_type": "execute_result"
    }
   ],
   "source": [
    "# info\n",
    "len (info)"
   ]
  },
  {
   "cell_type": "code",
   "execution_count": 30,
   "metadata": {},
   "outputs": [],
   "source": [
    "info = re.sub(r'\\n\\s{6}', ' ', info)\n"
   ]
  },
  {
   "cell_type": "code",
   "execution_count": 32,
   "metadata": {},
   "outputs": [
    {
     "data": {
      "text/plain": [
       "['',\n",
       " 'MA',\n",
       " 'USA',\n",
       " 'China',\n",
       " 'United States',\n",
       " 'Saudi Arabia',\n",
       " 'Egypt',\n",
       " 'India',\n",
       " 'Turkey',\n",
       " 'Italy',\n",
       " 'Japan']"
      ]
     },
     "execution_count": 32,
     "metadata": {},
     "output_type": "execute_result"
    }
   ],
   "source": [
    "codes = re.findall(r'AD.+, (.+[a-z-A-Z]).  ?Electronic|AD.+, (.+[a-z-A-Z]).  [^\\s<>\"]+@[^\\s<>\"]+|AD.+, (.+[a-z-A-Z]). [^\\s<>\"]+@[^\\s<>\"]+|AD.+,  ?(.+[a-z-A-Z]).?|', info)\n",
    "\n",
    "basic_list = itertools.chain(*codes)\n",
    "basic_list=list(basic_list)\n",
    "basic_list\n",
    "\n",
    "FR_List = [] \n",
    "for element in basic_list:\n",
    "    if element not in FR_List:\n",
    "        FR_List.append(element)\n",
    "\n",
    "FR_List[:40]"
   ]
  },
  {
   "cell_type": "code",
   "execution_count": null,
   "metadata": {},
   "outputs": [],
   "source": [
    "print(info[:2000])"
   ]
  },
  {
   "cell_type": "code",
   "execution_count": null,
   "metadata": {},
   "outputs": [],
   "source": []
  },
  {
   "cell_type": "markdown",
   "metadata": {},
   "source": []
  }
 ],
 "metadata": {
  "interpreter": {
   "hash": "0d94aeb0fda600462896a7de48466bc69c99574dd7deb896b47301d9a511e794"
  },
  "kernelspec": {
   "display_name": "Python 3.10.1 64-bit",
   "language": "python",
   "name": "python3"
  },
  "language_info": {
   "codemirror_mode": {
    "name": "ipython",
    "version": 3
   },
   "file_extension": ".py",
   "mimetype": "text/x-python",
   "name": "python",
   "nbconvert_exporter": "python",
   "pygments_lexer": "ipython3",
   "version": "3.10.1"
  },
  "orig_nbformat": 4
 },
 "nbformat": 4,
 "nbformat_minor": 2
}
